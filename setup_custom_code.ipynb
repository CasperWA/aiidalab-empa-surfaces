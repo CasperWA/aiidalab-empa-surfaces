{
 "cells": [
  {
   "cell_type": "code",
   "execution_count": 9,
   "metadata": {},
   "outputs": [],
   "source": [
    "%aiida\n",
    "from aiida import load_dbenv, is_dbenv_loaded\n",
    "from aiida.backends import settings\n",
    "if not is_dbenv_loaded():\n",
    "    load_dbenv(profile=settings.AIIDADB_PROFILE)\n",
    "    \n",
    "    \n",
    "from aiida.orm.querybuilder import QueryBuilder\n",
    "from aiida.orm import load_node, Code, Computer\n",
    "from aiida.common.exceptions import NotExistent, MultipleObjectsError"
   ]
  },
  {
   "cell_type": "code",
   "execution_count": 17,
   "metadata": {},
   "outputs": [
    {
     "name": "stdout",
     "output_type": "stream",
     "text": [
      "[<Computer: daint-s746 (daint.cscs.ch), pk: 1>]\n"
     ]
    }
   ],
   "source": [
    "## -------------------------------------------------------\n",
    "## List computers\n",
    "qb = QueryBuilder()\n",
    "qb.append(Computer)\n",
    "\n",
    "for e in qb.all():\n",
    "    print(e)\n",
    "## -------------------------------------------------------"
   ]
  },
  {
   "cell_type": "code",
   "execution_count": 16,
   "metadata": {},
   "outputs": [
    {
     "name": "stdout",
     "output_type": "stream",
     "text": [
      "[<Code: Remote code 'cp2k_6.0_18265' on daint-s746, pk: 97, uuid: 63b35574-a6c1-41fd-96e5-d15ff5724baf>]\n",
      "[<Code: Remote code 'pw-6.1' on daint-s746, pk: 98, uuid: bad4d425-2a7c-4ed4-b198-1cbb1ac24756>]\n",
      "[<Code: Remote code 'pp-6.1' on daint-s746, pk: 99, uuid: abdc6527-e78e-488c-a6db-551e961643c5>]\n",
      "[<Code: Remote code 'ph-6.1' on daint-s746, pk: 100, uuid: 3071efe4-369c-495f-8887-f402f80473c5>]\n",
      "[<Code: Remote code 'projwfc-6.1' on daint-s746, pk: 101, uuid: a7fd3263-07ef-41b3-931b-dd69dd4d422e>]\n",
      "[<Code: Remote code 'matdyn-6.1' on daint-s746, pk: 102, uuid: b5b14e9c-7242-4b62-b29b-2f06424568c7>]\n",
      "[<Code: Remote code 'q2r-6.1' on daint-s746, pk: 103, uuid: 3bde1767-f683-4db3-9af9-1d925441a62e>]\n",
      "[<Code: Remote code 'custom-pw-6.3' on daint-s746, pk: 416, uuid: db27bd74-317e-4772-92fc-3db5f82703d5>]\n",
      "[<Code: Remote code 'custom-pp-6.3' on daint-s746, pk: 417, uuid: eba5a0bf-d17b-4191-9ec4-75d72ccfe838>]\n",
      "[<Code: Remote code 'custom-ph-6.3' on daint-s746, pk: 418, uuid: f135246d-ff5d-420c-83f6-e679e1afe7bd>]\n",
      "[<Code: Remote code 'custom-projwfc-6.3' on daint-s746, pk: 419, uuid: 0a96c283-695a-4856-8f9a-41cb1075c536>]\n",
      "[<Code: Remote code 'custom-matdyn-6.3' on daint-s746, pk: 420, uuid: fec877c6-500e-4b37-a166-43bfb9970a04>]\n",
      "[<Code: Remote code 'custom-q2r-6.3' on daint-s746, pk: 421, uuid: f26eca4b-4856-404a-b97f-557d8d032861>]\n"
     ]
    }
   ],
   "source": [
    "## -------------------------------------------------------\n",
    "## List  codes\n",
    "qb = QueryBuilder()\n",
    "qb.append(Code)\n",
    "\n",
    "for e in qb.all():\n",
    "    print(e)\n",
    "## -------------------------------------------------------"
   ]
  },
  {
   "cell_type": "code",
   "execution_count": 12,
   "metadata": {},
   "outputs": [],
   "source": [
    "# 1. Select computer\n",
    "\n",
    "computer_name = \"daint-s746\"\n",
    "computer = Computer.get(computer_name)"
   ]
  },
  {
   "cell_type": "code",
   "execution_count": 15,
   "metadata": {},
   "outputs": [
    {
     "name": "stdout",
     "output_type": "stream",
     "text": [
      " * PK:             416\n",
      " * UUID:           db27bd74-317e-4772-92fc-3db5f82703d5\n",
      " * Label:          custom-pw-6.3\n",
      " * Description:    Quantum Espresso 6.3 pw.x\n",
      " * Default plugin: quantumespresso.pw\n",
      " * Used by:        0 calculations\n",
      " * Type:           remote\n",
      " * Remote machine: daint-s746\n",
      " * Remote absolute path: \n",
      "   /project/s746/keimre/soft/qe-6.3-gpu-pgi/bin/pw.x\n",
      " * prepend text:\n",
      "   ### code prepend_text start ###\n",
      "   ### code prepend_text end ###\n",
      "   \n",
      " * append text:\n",
      "   # No append text.\n",
      " * PK:             417\n",
      " * UUID:           eba5a0bf-d17b-4191-9ec4-75d72ccfe838\n",
      " * Label:          custom-pp-6.3\n",
      " * Description:    Quantum Espresso 6.3 pp.x\n",
      " * Default plugin: quantumespresso.pp\n",
      " * Used by:        0 calculations\n",
      " * Type:           remote\n",
      " * Remote machine: daint-s746\n",
      " * Remote absolute path: \n",
      "   /project/s746/keimre/soft/qe-6.3-gpu-pgi/bin/pp.x\n",
      " * prepend text:\n",
      "   ### code prepend_text start ###\n",
      "   ### code prepend_text end ###\n",
      "   \n",
      " * append text:\n",
      "   # No append text.\n",
      " * PK:             418\n",
      " * UUID:           f135246d-ff5d-420c-83f6-e679e1afe7bd\n",
      " * Label:          custom-ph-6.3\n",
      " * Description:    Quantum Espresso 6.3 ph.x\n",
      " * Default plugin: quantumespresso.ph\n",
      " * Used by:        0 calculations\n",
      " * Type:           remote\n",
      " * Remote machine: daint-s746\n",
      " * Remote absolute path: \n",
      "   /project/s746/keimre/soft/qe-6.3-gpu-pgi/bin/ph.x\n",
      " * prepend text:\n",
      "   ### code prepend_text start ###\n",
      "   ### code prepend_text end ###\n",
      "   \n",
      " * append text:\n",
      "   # No append text.\n",
      " * PK:             419\n",
      " * UUID:           0a96c283-695a-4856-8f9a-41cb1075c536\n",
      " * Label:          custom-projwfc-6.3\n",
      " * Description:    Quantum Espresso 6.3 projwfc.x\n",
      " * Default plugin: quantumespresso.projwfc\n",
      " * Used by:        0 calculations\n",
      " * Type:           remote\n",
      " * Remote machine: daint-s746\n",
      " * Remote absolute path: \n",
      "   /project/s746/keimre/soft/qe-6.3-gpu-pgi/bin/projwfc.x\n",
      " * prepend text:\n",
      "   ### code prepend_text start ###\n",
      "   ### code prepend_text end ###\n",
      "   \n",
      " * append text:\n",
      "   # No append text.\n",
      " * PK:             420\n",
      " * UUID:           fec877c6-500e-4b37-a166-43bfb9970a04\n",
      " * Label:          custom-matdyn-6.3\n",
      " * Description:    Quantum Espresso 6.3 matdyn.x\n",
      " * Default plugin: quantumespresso.matdyn\n",
      " * Used by:        0 calculations\n",
      " * Type:           remote\n",
      " * Remote machine: daint-s746\n",
      " * Remote absolute path: \n",
      "   /project/s746/keimre/soft/qe-6.3-gpu-pgi/bin/matdyn.x\n",
      " * prepend text:\n",
      "   ### code prepend_text start ###\n",
      "   ### code prepend_text end ###\n",
      "   \n",
      " * append text:\n",
      "   # No append text.\n",
      " * PK:             421\n",
      " * UUID:           f26eca4b-4856-404a-b97f-557d8d032861\n",
      " * Label:          custom-q2r-6.3\n",
      " * Description:    Quantum Espresso 6.3 q2r.x\n",
      " * Default plugin: quantumespresso.q2r\n",
      " * Used by:        0 calculations\n",
      " * Type:           remote\n",
      " * Remote machine: daint-s746\n",
      " * Remote absolute path: \n",
      "   /project/s746/keimre/soft/qe-6.3-gpu-pgi/bin/q2r.x\n",
      " * prepend text:\n",
      "   ### code prepend_text start ###\n",
      "   ### code prepend_text end ###\n",
      "   \n",
      " * append text:\n",
      "   # No append text.\n"
     ]
    }
   ],
   "source": [
    "# Quantum espresso\n",
    "\n",
    "exe_dir = \"/project/s746/keimre/soft/qe-6.3-gpu-pgi/bin/\"\n",
    "exe_list = [\"pw\", \"pp\", \"ph\", \"projwfc\", \"matdyn\", \"q2r\"]\n",
    "version_id = \"6.3\"\n",
    "\n",
    "prepend_text  = \"### code prepend_text start ###\\n\"\n",
    "#prepend_text += \"module load daint-gpu\\n\"\n",
    "prepend_text += \"### code prepend_text end ###\\n\"\n",
    "\n",
    "for exe in exe_list:\n",
    "    code_label = \"custom-\"+exe+\"-\"+version_id\n",
    "    \n",
    "    code_full_name = code_label + \"@\" + computer_name\n",
    "\n",
    "    try:\n",
    "        Code.get_from_string(code_full_name)\n",
    "    except (NotExistent, MultipleObjectsError):            \n",
    "        code = Code(remote_computer_exec=(computer, exe_dir + exe + \".x\"))\n",
    "        code.label = code_label\n",
    "        code.description = \"Quantum Espresso %s %s.x\" % (version_id, exe)\n",
    "        code.set_input_plugin_name(\"quantumespresso.{}\".format(exe))\n",
    "        code.set_prepend_text(prepend_text)\n",
    "        code.set_append_text(\"\")\n",
    "        code.store()\n",
    "        ! verdi code show \"{code_full_name}\"\n",
    "    else:\n",
    "        print(\"Code '{}' already existent\".format(code_full_name))  "
   ]
  },
  {
   "cell_type": "code",
   "execution_count": null,
   "metadata": {},
   "outputs": [],
   "source": []
  }
 ],
 "metadata": {
  "kernelspec": {
   "display_name": "Python 2",
   "language": "python",
   "name": "python2"
  },
  "language_info": {
   "codemirror_mode": {
    "name": "ipython",
    "version": 2
   },
   "file_extension": ".py",
   "mimetype": "text/x-python",
   "name": "python",
   "nbconvert_exporter": "python",
   "pygments_lexer": "ipython2",
   "version": "2.7.14"
  }
 },
 "nbformat": 4,
 "nbformat_minor": 2
}
