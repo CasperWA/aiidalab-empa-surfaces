{
 "cells": [
  {
   "cell_type": "code",
   "execution_count": null,
   "metadata": {},
   "outputs": [],
   "source": [
    "%aiida\n",
    "from aiida import load_dbenv, is_dbenv_loaded\n",
    "from aiida.backends import settings\n",
    "if not is_dbenv_loaded():\n",
    "    load_dbenv(profile=settings.AIIDADB_PROFILE)\n",
    "    \n",
    "    \n",
    "from aiida.orm.querybuilder import QueryBuilder\n",
    "from aiida.orm import load_node, Code, Computer\n",
    "from aiida.common.exceptions import NotExistent, MultipleObjectsError"
   ]
  },
  {
   "cell_type": "code",
   "execution_count": null,
   "metadata": {},
   "outputs": [],
   "source": [
    "## -------------------------------------------------------\n",
    "## List computers\n",
    "qb = QueryBuilder()\n",
    "qb.append(Computer)\n",
    "\n",
    "for e in qb.all():\n",
    "    print(e)\n",
    "## -------------------------------------------------------"
   ]
  },
  {
   "cell_type": "code",
   "execution_count": null,
   "metadata": {},
   "outputs": [],
   "source": [
    "## -------------------------------------------------------\n",
    "## List  codes\n",
    "qb = QueryBuilder()\n",
    "qb.append(Code)\n",
    "\n",
    "for e in qb.all():\n",
    "    print(e)\n",
    "## -------------------------------------------------------"
   ]
  },
  {
   "cell_type": "code",
   "execution_count": null,
   "metadata": {},
   "outputs": [],
   "source": [
    "# 1. Select computer\n",
    "\n",
    "computer_name = \"daint-s746\"\n",
    "computer = Computer.get(computer_name)"
   ]
  },
  {
   "cell_type": "code",
   "execution_count": null,
   "metadata": {},
   "outputs": [],
   "source": [
    "# Quantum espresso\n",
    "\n",
    "exe_dir = \"/users/keimre/soft/qe-6.3-gpu-pgi/bin/\"\n",
    "exe_list = [\"pw\", \"pp\", \"ph\", \"projwfc\", \"matdyn\", \"q2r\"]\n",
    "version_id = \"6.3-custom2\"\n",
    "\n",
    "prepend_text  = \"### code prepend_text start ###\\n\"\n",
    "#prepend_text += \"module load daint-gpu\\n\"\n",
    "prepend_text += \"### code prepend_text end ###\\n\"\n",
    "\n",
    "for exe in exe_list:\n",
    "    code_label = exe+\"-\"+version_id\n",
    "    \n",
    "    code_full_name = code_label + \"@\" + computer_name\n",
    "\n",
    "    try:\n",
    "        Code.get_from_string(code_full_name)\n",
    "    except (NotExistent, MultipleObjectsError):            \n",
    "        code = Code(remote_computer_exec=(computer, exe_dir + exe + \".x\"))\n",
    "        code.label = code_label\n",
    "        code.description = \"Quantum Espresso %s %s.x\" % (version_id, exe)\n",
    "        code.set_input_plugin_name(\"quantumespresso.{}\".format(exe))\n",
    "        code.set_prepend_text(prepend_text)\n",
    "        code.set_append_text(\"\")\n",
    "        code.store()\n",
    "        ! verdi code show \"{code_full_name}\"\n",
    "    else:\n",
    "        print(\"Code '{}' already existent\".format(code_full_name))  "
   ]
  },
  {
   "cell_type": "markdown",
   "metadata": {},
   "source": [
    "# Remove codes"
   ]
  },
  {
   "cell_type": "code",
   "execution_count": null,
   "metadata": {},
   "outputs": [],
   "source": [
    "## -------------------------------------------------------\n",
    "## List  codes\n",
    "qb = QueryBuilder()\n",
    "qb.append(Code)\n",
    "\n",
    "for e in qb.all():\n",
    "    print(e)\n",
    "## -------------------------------------------------------"
   ]
  },
  {
   "cell_type": "code",
   "execution_count": null,
   "metadata": {},
   "outputs": [],
   "source": [
    "! verdi code delete 416"
   ]
  },
  {
   "cell_type": "code",
   "execution_count": null,
   "metadata": {},
   "outputs": [],
   "source": []
  }
 ],
 "metadata": {
  "kernelspec": {
   "display_name": "Python 2",
   "language": "python",
   "name": "python2"
  },
  "language_info": {
   "codemirror_mode": {
    "name": "ipython",
    "version": 2
   },
   "file_extension": ".py",
   "mimetype": "text/x-python",
   "name": "python",
   "nbconvert_exporter": "python",
   "pygments_lexer": "ipython2",
   "version": "2.7.14"
  }
 },
 "nbformat": 4,
 "nbformat_minor": 2
}
